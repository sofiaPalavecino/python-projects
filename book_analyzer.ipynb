{
 "cells": [
  {
   "cell_type": "code",
   "execution_count": 25,
   "metadata": {},
   "outputs": [
    {
     "name": "stdout",
     "output_type": "stream",
     "text": [
      "[['German', 'lessing', 'hamburgische dramaturgie.txt'], ['German', 'lessing', 'philotas.txt'], ['German', 'lessing', 'miss sara sampson.txt'], ['German', 'lessing', 'der junge gelehrte.txt'], ['German', 'lessing', 'minna von barnhelm.txt'], ['German', 'lessing', 'emilia galotti.txt'], ['German', 'lessing', 'die juden.txt'], ['German', 'lessing', 'der freigeist.txt'], ['German', 'raimund', 'Moisasurs Zauberfluch.txt'], ['German', 'raimund', 'Der Barometermacher auf der Zauberinsel.txt'], ['German', 'raimund', 'Der Alpenkînig und der Menschenfeind.txt'], ['German', 'raimund', 'Das MÑdchen aus der Feenwelt.txt'], ['German', 'raimund', 'Der Diamant des Geisterkînigs.txt'], ['German', 'raimund', 'Der Verschwender.txt'], ['German', 'raimund', 'Die gefesselte Phantasie.txt'], ['German', 'raimund', 'Die unheilbringende Krone.txt'], ['German', 'schiller', 'Wallensteins Lager.txt'], ['German', 'schiller', 'Die Piccolomini.txt'], ['German', 'schiller', 'Kabale und Liebe.txt'], ['German', 'schiller', 'Der Parasit, oder die Kunst, sein GlÅck zu machen.txt'], ['German', 'schiller', 'Turandot, Prinzessin von China.txt'], ['German', 'schiller', 'Die Jungfrau von Orleans.txt'], ['German', 'schiller', 'Der Neffe als Onkel.txt'], ['German', 'schiller', 'die braut von messina.txt'], ['German', 'schiller', 'Die Huldigung der KÅnste.txt'], ['German', 'schiller', 'Wallensteins Tod.txt'], ['German', 'schiller', 'Die Verschwîrung des Fiesco zu Genua.txt'], ['German', 'shakespeare', 'Hamlet.txt'], ['German', 'shakespeare', 'Macbeth.txt'], ['German', 'shakespeare', 'Romeo und Julia.txt'], ['German', 'shakespeare', 'Othello.txt'], ['German', 'shakespeare', 'Der Kaufmann von Venedig.txt'], ['German', 'shakespeare', 'Richard III.txt'], ['German', 'shakespeare', 'Ein Sommernachtstraum.txt'], ['Portuguese', 'Queir¢s', 'Cartas de Inglaterra.txt'], ['Portuguese', 'Queir¢s', 'A Rel°quia.txt'], ['Portuguese', 'Queir¢s', 'O Mandarim.txt'], ['Portuguese', 'Queir¢s', 'A Cidade e as Serras.txt'], ['Portuguese', 'Queir¢s', 'O crime do padre Amaro.txt'], ['Portuguese', 'Queir¢s', 'A correspondància de Fradique Mendes.txt'], ['Portuguese', 'Queir¢s', 'O Primo Bazilio.txt'], ['Portuguese', 'Queir¢s', 'A Illustre Casa de Ramires.txt'], ['Portuguese', 'Queir¢s', 'Os Maias.txt'], ['Portuguese', 'branco', 'A Filha do Arcediago.txt'], ['Portuguese', 'branco', 'Amor de Perdição.txt'], ['Portuguese', 'branco', \"A Queda d'um Anjo.txt\"], ['Portuguese', 'branco', 'Amor de Salvação.txt'], ['Portuguese', 'branco', 'A Neta do Arcediago.txt'], ['Portuguese', 'branco', 'Estrellas Funestas.txt'], ['Portuguese', 'branco', 'Scenas Contemporaneas.txt'], ['Portuguese', 'branco', 'Agulha em Palheiro.txt'], ['Portuguese', 'branco', 'Annos de Prosa.txt'], ['Portuguese', 'branco', 'Estrellas Prop°cias.txt'], ['Portuguese', 'branco', 'Lagrimas Abenáoadas.txt'], ['Portuguese', 'branco', 'Carlota Angela.txt'], ['Portuguese', 'branco', 'O que fazem mulheres.txt'], ['Portuguese', 'branco', 'O Regicida.txt'], ['Portuguese', 'branco', 'Livro de Consolação.txt'], ['Portuguese', 'branco', 'O Olho de Vidro.txt'], ['Portuguese', 'dinis', 'Os fidalgos da Casa Mourisca.txt'], ['Portuguese', 'dinis', 'A Morgadinha dos Cannaviaes.txt'], ['Portuguese', 'dinis', 'Uma fam°lia ingleza.txt'], ['Portuguese', 'shakespeare', 'Hamlet.txt'], ['English', 'Unknown', 'frankenstein.txt'], ['English', '.DS_Store', None], ['English', 'shakespeare', 'Hamlet.txt'], ['English', 'shakespeare', 'Macbeth.txt'], ['English', 'shakespeare', 'The Merchant of Venice.txt'], ['English', 'shakespeare', 'Romeo and Juliet.txt'], ['English', 'shakespeare', 'Othello.txt'], ['English', 'shakespeare', \"A Midsummer Night's Dream.txt\"], ['English', 'shakespeare', 'Richard III.txt'], ['French', 'sand', 'Oeuvres illustrÇes de George Sand.txt'], ['French', 'sand', 'Pauline.txt'], ['French', 'sand', 'Le Piccinino.txt'], ['French', 'sand', 'La Marquise.txt'], ['French', 'sand', 'cora.txt'], ['French', 'sand', \"L' Orco.txt\"], ['French', 'sand', 'Mattea.txt'], ['French', 'sand', 'Le poâme de Myrza.txt'], ['French', 'sand', 'Jacques le fataliste et son maåtre.txt'], ['French', 'sand', 'Metella.txt'], ['French', 'sand', 'La Coupe; Lupo Liverani; Le Toast; Garnier; Le Contrebandier; La Ràverie Ö Paris.txt'], ['French', 'diderot', \"Entretien d'un päre avec ses enfants.txt\"], ['French', 'diderot', 'Regrets sur ma vieille robe de chambre.txt'], ['French', 'diderot', \"Ceci n'est pas un conte.txt\"], ['French', 'diderot', \"L'oiseau blanc.txt\"], ['French', 'diderot', 'Les deux amis de Bourbonne.txt'], ['French', 'chevalier', \"L'enfer et le paradis de l'autre monde.txt\"], ['French', 'chevalier', \"L'åle de sable.txt\"], ['French', 'chevalier', 'La capitaine.txt'], ['French', 'chevalier', 'Les derniers Iroquois.txt'], ['French', 'chevalier', 'La fille du pirate.txt'], ['French', 'chevalier', 'Le chasseur noir.txt'], ['French', 'chevalier', 'La fille des indiens rouges.txt'], ['French', 'de Maupassant', 'La Maison Tellier.txt'], ['French', 'de Maupassant', 'Contes de la Becasse.txt'], ['French', 'de Maupassant', 'La petite roque.txt'], ['French', 'de Maupassant', 'Œuvres complètes de Guy de Maupassant.txt'], ['French', 'de Maupassant', 'Le Horla.txt'], ['French', 'de Maupassant', \"L'inutile beautÇ.txt\"], ['French', 'de Maupassant', 'Boule de Suif.txt'], ['French', 'de Maupassant', 'Claire de Lune.txt'], ['French', 'de Maupassant', 'La Main Gauche.txt']]\n"
     ]
    }
   ],
   "source": [
    "from collections import Counter\n",
    "import os\n",
    "import pandas as pd\n",
    "import matplotlib.pyplot as plt\n",
    "\n",
    "file_depth_def = {\n",
    "    \"Language\" : 0,\n",
    "    \"Author\" : 1,\n",
    "    \"Filename\" : 2\n",
    "}\n",
    "\n",
    "def count_words_appearances(file_contents):\n",
    "    skips = [\".\", \", \", \":\", \";\", \"'\", '\"']\n",
    "    for ch in skips:\n",
    "        file_contents = file_contents.replace(ch, \"\")  # replaces unnecessary characters\n",
    "    word_count = Counter(file_contents.split()) # returns a dictionary with the amount of each word.\n",
    "    return word_count\n",
    "\n",
    "\n",
    "def get_word_count(word_counts):\n",
    "    num_unique = len(word_counts) # The length represents the amount of unique words\n",
    "    counts = word_counts.values() # Obtains the values of the dictionary (the number of appearances of each unique word)\n",
    "    return num_unique, counts\n",
    "\n",
    "\n",
    "def read_book(title_path):\n",
    "    with open(title_path, \"r\", encoding=\"utf8\") as current_file:\n",
    "        file_contents = current_file.read()\n",
    "        file_contents = file_contents.replace(\"\\n\", \"\").replace(\"\\r\", \"\")\n",
    "        return file_contents\n",
    "\n",
    "def back_one_directory(path):\n",
    "    path = path.split(\"/\")\n",
    "    path.pop()\n",
    "    path = \"/\".join(path)\n",
    "    return path\n",
    "\n",
    "\n",
    "def get_books_information(path, depth, current_info, final_information):\n",
    "    for path_name in os.listdir(path):\n",
    "        alt_current_info = current_info.copy()\n",
    "        alt_current_info[depth] = path_name\n",
    "        path += \"/\" + path_name\n",
    "        if os.path.isfile(path):\n",
    "            final_information.append(alt_current_info)\n",
    "            path = back_one_directory(path)\n",
    "        else:\n",
    "            final_information, path = get_books_information(path, depth+1, alt_current_info, final_information)\n",
    "            path = back_one_directory(path)\n",
    "            current_info = [path.split(\"/\").copy().pop(), None, None]\n",
    "    return final_information, path\n",
    "\n",
    "\n",
    "\n",
    "books_directory = \"./books\"\n",
    "os.listdir(books_directory)\n",
    "\n",
    "library_stats = pd.DataFrame(columns=(\n",
    "    \"Title\",\n",
    "    \"Author\",\n",
    "    \"Language\",\n",
    "    \"Length\",\n",
    "    \"Unique amount od words\"\n",
    "))\n",
    "initial_current_info = [None]* 3\n",
    "final_info = []\n",
    "books_final_info, final_path = get_books_information(books_directory, 0, initial_current_info, final_info)\n",
    "print(books_final_info)\n"
   ]
  },
  {
   "cell_type": "code",
   "execution_count": 25,
   "metadata": {},
   "outputs": [],
   "source": []
  }
 ],
 "metadata": {
  "kernelspec": {
   "display_name": "Python 3 (ipykernel)",
   "language": "python",
   "name": "python3"
  },
  "language_info": {
   "codemirror_mode": {
    "name": "ipython",
    "version": 3
   },
   "file_extension": ".py",
   "mimetype": "text/x-python",
   "name": "python",
   "nbconvert_exporter": "python",
   "pygments_lexer": "ipython3",
   "version": "3.10.6"
  }
 },
 "nbformat": 4,
 "nbformat_minor": 1
}
